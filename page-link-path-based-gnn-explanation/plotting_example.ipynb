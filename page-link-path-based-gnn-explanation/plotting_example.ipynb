{
 "cells": [
  {
   "cell_type": "code",
   "execution_count": 2,
   "id": "de83537e",
   "metadata": {},
   "outputs": [],
   "source": [
    "import torch\n",
    "import numpy as np\n",
    "import argparse\n",
    "import pickle\n",
    "from collections import defaultdict\n",
    "from pathlib import Path\n",
    "from tqdm.auto import tqdm\n",
    "\n",
    "from data_processing import load_dataset\n",
    "from model import HeteroRGCN, HeteroLinkPredictionModel\n",
    "from utils import set_config_args, get_comp_g_edge_labels, get_comp_g_path_labels\n",
    "from utils import hetero_src_tgt_khop_in_subgraph, eval_edge_mask_auc, eval_edge_mask_topk_path_hit\n",
    "\n",
    "parser = argparse.ArgumentParser(description='Explain link predictor')\n",
    "'''\n",
    "Dataset args\n",
    "'''\n",
    "parser.add_argument('--dataset_dir', type=str, default='datasets')\n",
    "parser.add_argument('--dataset_name', type=str, default='aug_citation')\n",
    "parser.add_argument('--valid_ratio', type=float, default=0.1) \n",
    "parser.add_argument('--test_ratio', type=float, default=0.2)\n",
    "parser.add_argument('--max_num_samples', type=int, default=-1, \n",
    "                    help='maximum number of samples to explain, for fast testing. Use all if -1')\n",
    "\n",
    "'''\n",
    "GNN args\n",
    "'''\n",
    "parser.add_argument('--emb_dim', type=int, default=128)\n",
    "parser.add_argument('--hidden_dim', type=int, default=128)\n",
    "parser.add_argument('--out_dim', type=int, default=128)\n",
    "parser.add_argument('--saved_model_dir', type=str, default='saved_models')\n",
    "parser.add_argument('--saved_model_name', type=str, default='')\n",
    "\n",
    "'''\n",
    "Link predictor args\n",
    "'''\n",
    "parser.add_argument('--src_ntype', type=str, default='user', help='prediction source node type')\n",
    "parser.add_argument('--tgt_ntype', type=str, default='item', help='prediction target node type')\n",
    "parser.add_argument('--pred_etype', type=str, default='likes', help='prediction edge type')\n",
    "parser.add_argument('--link_pred_op', type=str, default='dot', choices=['dot', 'cos', 'ele', 'cat'],\n",
    "                   help='operation passed to dgl.EdgePredictor')\n",
    "\n",
    "'''\n",
    "Explanation args\n",
    "'''\n",
    "parser.add_argument('--num_hops', type=int, default=2, help='computation graph number of hops') \n",
    "parser.add_argument('--saved_explanation_dir', type=str, default='saved_explanations',\n",
    "                    help='directory of saved explanations')\n",
    "parser.add_argument('--eval_explainer_names', nargs='+', default=['pagelink'],\n",
    "                    help='name of explainers to evaluate') \n",
    "parser.add_argument('--eval_path_hit', default=False, action='store_true', \n",
    "                    help='Whether to save the explanation') \n",
    "parser.add_argument('--config_path', type=str, default='', help='path of saved configuration args')\n",
    "\n",
    "args = parser.parse_args('')\n",
    "\n",
    "if args.config_path:\n",
    "    args = set_config_args(args, args.config_path, args.dataset_name, 'train_eval')\n",
    "\n",
    "if 'citation' in args.dataset_name:\n",
    "    args.src_ntype = 'author'\n",
    "    args.tgt_ntype = 'paper'\n",
    "\n",
    "elif 'synthetic' in args.dataset_name:\n",
    "    args.src_ntype = 'user'\n",
    "    args.tgt_ntype = 'item'    \n",
    "    \n",
    "if args.link_pred_op in ['cat']:\n",
    "    pred_kwargs = {\"in_feats\": args.out_dim, \"out_feats\": 1}\n",
    "else:\n",
    "    pred_kwargs = {}\n",
    "\n",
    "g, processed_g, pred_pair_to_edge_labels, pred_pair_to_path_labels = load_dataset(args.dataset_dir,\n",
    "                                                                                  args.dataset_name,\n",
    "                                                                                  args.valid_ratio,\n",
    "                                                                                  args.test_ratio)\n",
    "mp_g, train_pos_g, train_neg_g, val_pos_g, val_neg_g, test_pos_g, test_neg_g = [g for g in processed_g]\n",
    "encoder = HeteroRGCN(mp_g, args.emb_dim, args.hidden_dim, args.out_dim)\n",
    "model = HeteroLinkPredictionModel(encoder, args.src_ntype, args.tgt_ntype, args.link_pred_op, **pred_kwargs)\n",
    "\n",
    "if not args.saved_model_name:\n",
    "    args.saved_model_name = f'{args.dataset_name}_model'\n",
    "\n",
    "state = torch.load(f'{args.saved_model_dir}/{args.saved_model_name}.pth', map_location='cpu')\n",
    "model.load_state_dict(state)    \n",
    "\n",
    "test_src_nids, test_tgt_nids = test_pos_g.edges()\n",
    "comp_graphs = defaultdict(list)\n",
    "comp_g_labels = defaultdict(list)\n"
   ]
  },
  {
   "cell_type": "markdown",
   "id": "25a62d3f",
   "metadata": {},
   "source": [
    "## Pick one example graph"
   ]
  },
  {
   "cell_type": "code",
   "execution_count": 3,
   "id": "1d4bba57",
   "metadata": {},
   "outputs": [],
   "source": [
    "i = 0\n",
    "# Get the k-hop subgraph\n",
    "src_nid, tgt_nid = test_src_nids[i], test_tgt_nids[i]\n",
    "comp_g_src_nid, comp_g_tgt_nid, comp_g, comp_g_feat_nids = hetero_src_tgt_khop_in_subgraph(args.src_ntype, \n",
    "                                                                                            src_nid,\n",
    "                                                                                            args.tgt_ntype,\n",
    "                                                                                            tgt_nid,\n",
    "                                                                                            mp_g,\n",
    "                                                                                            args.num_hops)\n",
    "\n",
    "with torch.no_grad():\n",
    "    pred = model(comp_g_src_nid, comp_g_tgt_nid, comp_g, comp_g_feat_nids).sigmoid().item() > 0.5\n",
    "\n",
    "if pred:\n",
    "    src_tgt = ((args.src_ntype, int(src_nid)), (args.tgt_ntype, int(tgt_nid)))\n",
    "    comp_graphs[src_tgt] = [comp_g_src_nid, comp_g_tgt_nid, comp_g, comp_g_feat_nids]\n"
   ]
  },
  {
   "cell_type": "markdown",
   "id": "8913b4b0",
   "metadata": {},
   "source": [
    "## Load saved explanation"
   ]
  },
  {
   "cell_type": "code",
   "execution_count": 4,
   "id": "a70e771a",
   "metadata": {},
   "outputs": [],
   "source": [
    "explainer = args.eval_explainer_names[0]\n",
    "saved_explanation_mask = f'{explainer}_{args.saved_model_name}_pred_edge_to_comp_g_edge_mask'\n",
    "saved_file = Path.cwd().joinpath(args.saved_explanation_dir, saved_explanation_mask)\n",
    "with open(saved_file, \"rb\") as f:\n",
    "    explanation_mask = pickle.load(f)"
   ]
  },
  {
   "cell_type": "markdown",
   "id": "30fc3db3",
   "metadata": {},
   "source": [
    "## Extract paths and construct the explanation graph to plot"
   ]
  },
  {
   "cell_type": "code",
   "execution_count": 5,
   "id": "b5910d40",
   "metadata": {},
   "outputs": [],
   "source": [
    "import dgl\n",
    "def get_exp_g(g, paths, src_ntype, src_nid, tgt_ntype, tgt_nid):\n",
    "    path_eids = {}\n",
    "    for path in paths:\n",
    "        for edge in path:\n",
    "            etype, u, v = edge\n",
    "            eids = comp_g.edge_ids(u=u, v=v, etype=etype)\n",
    "            path_eids[etype] = eids\n",
    "\n",
    "    exp_g = g\n",
    "    for etype in g.canonical_etypes:\n",
    "        # hard_edge_mask = hard_edge_mask_dict[etype]\n",
    "        remove_eids = g.edges(form='eid', etype=etype)\n",
    "        if etype in path_eids:\n",
    "            remove_eids = remove_eids[remove_eids != path_eids[etype]]\n",
    "        exp_g = dgl.remove_edges(exp_g, remove_eids, etype=etype) # creates a new graph\n",
    "\n",
    "    exp_g = dgl.compact_graphs(exp_g, always_preserve={src_ntype : src_nid, tgt_ntype : tgt_nid })\n",
    "\n",
    "    # Get src and tgt nid in the explanation graph\n",
    "    # Note: the input graph should have node data dgl.NID\n",
    "    exp_g_src_nid_in_g = exp_g.ndata[dgl.NID][src_ntype]\n",
    "    exp_g_src_nid = (exp_g_src_nid_in_g == src_nid).nonzero().view(-1)\n",
    "    exp_g_tgt_nid_in_g = exp_g.ndata[dgl.NID][tgt_ntype]\n",
    "    exp_g_tgt_nid = (exp_g_tgt_nid_in_g == tgt_nid).nonzero().view(-1)\n",
    "\n",
    "    return exp_g, exp_g_src_nid, exp_g_tgt_nid   \n",
    "\n",
    "comp_g_edge_mask_dict = explanation_mask[src_tgt]\n",
    "from explainer import PaGELink\n",
    "pagelink = PaGELink(model)\n",
    "paths = pagelink.get_paths(comp_g_src_nid, comp_g_tgt_nid, comp_g, comp_g_edge_mask_dict)\n",
    "\n",
    "exp_g, exp_g_src_nid, exp_g_tgt_nid = get_exp_g(comp_g, \n",
    "                                                paths,\n",
    "                                                args.src_ntype,\n",
    "                                                comp_g_src_nid,\n",
    "                                                args.tgt_ntype,\n",
    "                                                comp_g_tgt_nid)"
   ]
  },
  {
   "cell_type": "markdown",
   "id": "913813d2",
   "metadata": {},
   "source": [
    "## Set plot arguments and plot"
   ]
  },
  {
   "cell_type": "code",
   "execution_count": 6,
   "id": "03f40dca",
   "metadata": {},
   "outputs": [],
   "source": [
    "from utils import plot_hetero_graph\n",
    "\n",
    "if 'synthetic' in args.dataset_name:\n",
    "    ntypes_to_nshapes = {'user':'p', 'item':'o', 'attr':'s'}\n",
    "    ntypes_to_nlayers = {'user': 0, 'item': 1, 'attr': 2, }\n",
    "    ntypes_to_ncolors = {'user':'#FFBFB5', 'item':'#C5E0B4', 'attr':'#8FAADC'}\n",
    "    \n",
    "elif 'citation' in args.dataset_name:\n",
    "    ntypes_to_nshapes = {'author':'p', 'paper':'o', 'ref':'^', 'fos':'s'}\n",
    "    ntypes_to_nlayers = {'author': 0, 'paper': 1, 'fos': 2, 'ref': 3}\n",
    "    ntypes_to_ncolors = {'author':'#FFBFB5', 'paper':'#C5E0B4', 'fos':'#8FAADC', 'ref':'#FFD966'}\n",
    "    \n",
    "edge_kwargs = {\"edge_color\" : '#00B050',\n",
    "               \"style\" : '-',\n",
    "               \"width\" : 4,\n",
    "               \"arrows\" : True,\n",
    "               \"arrowstyle\" : '-|>',\n",
    "               \"arrowsize\" : 30}\n",
    "\n",
    "selected_edge_kwargs = {\"edge_color\" : 'red',\n",
    "                        \"style\" : '--',\n",
    "                        \"width\" : 3,\n",
    "                        \"arrows\" : False}\n",
    "selected_edge_dict = {(args.src_ntype, args.pred_etype, args.tgt_ntype) : (exp_g_src_nid, exp_g_tgt_nid)}"
   ]
  },
  {
   "cell_type": "code",
   "execution_count": 9,
   "id": "2f52b982",
   "metadata": {},
   "outputs": [
    {
     "data": {
      "image/png": "[encoded data removed]",
      "text/plain": [
       "<Figure size 720x720 with 1 Axes>"
      ]
     },
     "metadata": {},
     "output_type": "display_data"
    }
   ],
   "source": [
    "nx_graph = plot_hetero_graph(exp_g,\n",
    "                             ntypes_to_nshapes,\n",
    "                             ntypes_to_ncolors,\n",
    "                             ntypes_to_nlayers,\n",
    "                             label='nx_id',\n",
    "                             edge_kwargs=edge_kwargs,\n",
    "                             selected_edge_kwargs=selected_edge_kwargs,\n",
    "                             selected_edge_dict=selected_edge_dict)"
   ]
  }
 ],
 "metadata": {
  "kernelspec": {
   "display_name": "Python 3 (ipykernel)",
   "language": "python",
   "name": "python3"
  },
  "language_info": {
   "codemirror_mode": {
    "name": "ipython",
    "version": 3
   },
   "file_extension": ".py",
   "mimetype": "text/x-python",
   "name": "python",
   "nbconvert_exporter": "python",
   "pygments_lexer": "ipython3",
   "version": "3.10.6"
  }
 },
 "nbformat": 4,
 "nbformat_minor": 5
}
